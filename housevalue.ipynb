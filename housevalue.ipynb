{
 "cells": [
  {
   "cell_type": "markdown",
   "metadata": {},
   "source": [
    "# Read train.csv and data modification"
   ]
  },
  {
   "cell_type": "code",
   "execution_count": 8,
   "metadata": {},
   "outputs": [
    {
     "name": "stderr",
     "output_type": "stream",
     "text": [
      "/anaconda3/envs/py3/lib/python3.6/site-packages/ipykernel_launcher.py:40: SettingWithCopyWarning: \n",
      "A value is trying to be set on a copy of a slice from a DataFrame.\n",
      "Try using .loc[row_indexer,col_indexer] = value instead\n",
      "\n",
      "See the caveats in the documentation: http://pandas.pydata.org/pandas-docs/stable/indexing.html#indexing-view-versus-copy\n",
      "/anaconda3/envs/py3/lib/python3.6/site-packages/ipykernel_launcher.py:41: SettingWithCopyWarning: \n",
      "A value is trying to be set on a copy of a slice from a DataFrame.\n",
      "Try using .loc[row_indexer,col_indexer] = value instead\n",
      "\n",
      "See the caveats in the documentation: http://pandas.pydata.org/pandas-docs/stable/indexing.html#indexing-view-versus-copy\n",
      "/anaconda3/envs/py3/lib/python3.6/site-packages/ipykernel_launcher.py:42: SettingWithCopyWarning: \n",
      "A value is trying to be set on a copy of a slice from a DataFrame.\n",
      "Try using .loc[row_indexer,col_indexer] = value instead\n",
      "\n",
      "See the caveats in the documentation: http://pandas.pydata.org/pandas-docs/stable/indexing.html#indexing-view-versus-copy\n"
     ]
    },
    {
     "name": "stdout",
     "output_type": "stream",
     "text": [
      "31\n",
      "31\n",
      "20\n",
      "4 Index(['gde_workers_sector3', 'gde_workers_total', 'gde_private_apartments',\n",
      "       'gde_population', 'gde_workers_sector2', 'gde_new_homes_per_1000',\n",
      "       'gde_pop_per_km2', 'gde_politics_bdp', 'gde_politics_rights',\n",
      "       'gde_area_nonproductive_percentage', 'AreaProperty', 'Renovationyear',\n",
      "       'gde_empty_apartments', 'gde_workers_sector1', 'gde_politics_cvp',\n",
      "       'gde_social_help_quota', 'gde_politics_evp',\n",
      "       'gde_area_settlement_percentage', 'PopulationDensityL',\n",
      "       'gde_politics_fdp'],\n",
      "      dtype='object')\n",
      "gde_workers_sector3 -0.08382454260094371\n",
      "gde_workers_total -0.09740144518208556\n",
      "gde_private_apartments -0.12935389296767996\n",
      "gde_population -0.12028214696417053\n",
      "gde_workers_sector2 0.039575378017147896\n",
      "gde_new_homes_per_1000 0.031292103343882514\n",
      "gde_pop_per_km2 0.12587091075756304\n",
      "gde_politics_bdp -0.03925150682182432\n",
      "gde_politics_rights -0.6716917078976924\n",
      "gde_area_nonproductive_percentage -0.4721885024919391\n",
      "AreaProperty -0.1715919651049174\n",
      "Renovationyear -1.319448970769253\n",
      "gde_empty_apartments -0.38724099772177667\n",
      "gde_workers_sector1 0.26137401025331924\n",
      "gde_politics_cvp 0.12847128768573315\n",
      "gde_social_help_quota 0.010573623942134229\n",
      "gde_politics_evp -0.05538259516219001\n",
      "gde_area_settlement_percentage 0.22010256794925992\n",
      "PopulationDensityL -2.865476097051609\n",
      "gde_politics_fdp 0.6732043187675799\n",
      "Index(['AreaLiving', 'Rooms', 'TravelTimeMiv', 'BuiltYear',\n",
      "       'NoisePollutionRoadL', 'NoisePollutionRoadM', 'PopulationDensityL',\n",
      "       'PopulationDensityM', 'RiversAndLakesL', 'RiversAndLakesM',\n",
      "       'WorkplaceDensityL', 'WorkplaceDensityM', 'WorkplaceDensityS',\n",
      "       'gde_politics_cvp', 'gde_politics_evp', 'gde_politics_sp',\n",
      "       'gde_politics_fdp', 'gde_politics_svp',\n",
      "       'gde_area_agriculture_percentage', 'gde_area_forest_percentage',\n",
      "       'gde_area_nonproductive_percentage', 'gde_area_settlement_percentage',\n",
      "       'gde_average_house_hold', 'gde_empty_apartments',\n",
      "       'gde_foreigners_percentage', 'gde_new_homes_per_1000',\n",
      "       'gde_pop_per_km2', 'gde_population', 'gde_private_apartments',\n",
      "       'gde_social_help_quota', 'gde_tax', 'gde_workers_sector1',\n",
      "       'gde_workers_sector2', 'gde_workers_sector3', 'gde_workers_total',\n",
      "       'Latitude', 'Longitude', 'AreaProperty', 'gde_politics_bdp',\n",
      "       'Renovationyear', 'gde_politics_pda', 'gde_politics_rights'],\n",
      "      dtype='object')\n",
      "3\n",
      "13\n",
      "23\n",
      "48\n",
      "Empty DataFrame\n",
      "Columns: [Home.ch, Homegate, ICasa, Immoscout, Immostreet, Immowelt, NabHome, Newhome, Urbanhome, Anderes Haus, Attikawohnung, Doppelhaus, Haus, Loftwohnung, Maisonettewohnung, Mehrfamilienhaus, Reihenhaus, Terassenhaus, Wohnung, Zimmer, AG, AI, AR, BE, BL, BS, FR, GE, GL, GR, JU, LU, NE, NW, OW, SG, SH, SO, SZ, TG, TI, UR, VD, VS, ZG, ZH]\n",
      "Index: []\n",
      "\n",
      "[0 rows x 46 columns]\n",
      "catogorical 46\n",
      "Empty DataFrame\n",
      "Columns: [AreaLiving, Rooms, TravelTimeMiv, BuiltYear, NoisePollutionRoadL, NoisePollutionRoadM, PopulationDensityL, PopulationDensityM, RiversAndLakesL, RiversAndLakesM, WorkplaceDensityL, WorkplaceDensityM, WorkplaceDensityS, gde_politics_cvp, gde_politics_evp, gde_politics_sp, gde_politics_fdp, gde_politics_svp, gde_area_agriculture_percentage, gde_area_forest_percentage, gde_area_nonproductive_percentage, gde_area_settlement_percentage, gde_average_house_hold, gde_empty_apartments, gde_foreigners_percentage, gde_new_homes_per_1000, gde_pop_per_km2, gde_population, gde_private_apartments, gde_social_help_quota, gde_tax, gde_workers_sector1, gde_workers_sector2, gde_workers_sector3, gde_workers_total, Latitude, Longitude, AreaProperty, gde_politics_bdp, Renovationyear, gde_politics_pda, gde_politics_rights, Home.ch, Homegate, ICasa, Immoscout, Immostreet, Immowelt, NabHome, Newhome, Urbanhome, Anderes Haus, Attikawohnung, Doppelhaus, Haus, Loftwohnung, Maisonettewohnung, Mehrfamilienhaus, Reihenhaus, Terassenhaus, Wohnung, Zimmer, AG, AI, AR, BE, BL, BS, FR, GE, GL, GR, JU, LU, NE, NW, OW, SG, SH, SO, SZ, TG, TI, UR, VD, VS, ZG, ZH, SourceId, RealEstateTypeId, HouseObject, Zip, FloorNumber, location_is_complete, location_has_street]\n",
      "Index: []\n",
      "\n",
      "[0 rows x 95 columns]\n"
     ]
    }
   ],
   "source": [
    "#first, import the library from sklearn\n",
    "from sklearn.model_selection import train_test_split\n",
    "import sklearn\n",
    "\n",
    "from sklearn.model_selection import cross_val_score, ShuffleSplit\n",
    "from sklearn.ensemble import RandomForestRegressor\n",
    "import random \n",
    "import pandas as pd\n",
    "import numpy as np\n",
    "from scipy import stats\n",
    "from scipy.special import boxcox1p\n",
    "from scipy.stats import boxcox\n",
    "from scipy.stats import norm, skew\n",
    "from scipy.stats import boxcox_normmax\n",
    "\n",
    "data = pd.read_csv(\"/Users/lilian/Desktop/project/project data/train.csv\",encoding = \"ISO-8859-1\")\n",
    "Data = pd.DataFrame(data)\n",
    "\n",
    "\n",
    "\n",
    "\n",
    "X =Data[['AreaLiving','Rooms','TravelTimeMiv','BuiltYear','NoisePollutionRoadL',\n",
    "         'NoisePollutionRoadM','PopulationDensityL','PopulationDensityM','RiversAndLakesL',\n",
    "        'RiversAndLakesM','WorkplaceDensityL','WorkplaceDensityM','WorkplaceDensityS',\n",
    "        'gde_politics_cvp','gde_politics_evp','gde_politics_sp','gde_politics_fdp',\n",
    "         'gde_politics_svp','gde_area_agriculture_percentage','gde_area_forest_percentage','gde_area_nonproductive_percentage',\n",
    "         'gde_area_settlement_percentage','gde_average_house_hold',\n",
    "         'gde_empty_apartments','gde_foreigners_percentage','gde_new_homes_per_1000','gde_pop_per_km2',\n",
    "        'gde_population','gde_private_apartments','gde_social_help_quota','gde_tax','gde_workers_sector1',\n",
    "         'gde_workers_sector2','gde_workers_sector3','gde_workers_total','Latitude','Longitude',\n",
    "     'AreaProperty','gde_politics_bdp','Renovationyear','gde_politics_pda','gde_politics_rights']]#,'AreaProperty']]#'Name','GroupNameDe''AreaProperty'\n",
    "#'location_has_street','location_is_complete',\n",
    "\n",
    "Xc = Data[['Name','GroupNameDe','StateShort']]\n",
    "Xc1= Data[['SourceId','RealEstateTypeId','HouseObject','Zip','FloorNumber','location_is_complete',\n",
    "        'location_has_street']]\n",
    "Y = Data['PurchasePrice']\n",
    "Y = np.log1p(Y)\n",
    "\n",
    "X['AreaProperty']=X['AreaProperty'].fillna(0)\n",
    "X['AreaLiving'] = np.log1p(X['AreaLiving'])\n",
    "X['Rooms'] = np.log1p(X['Rooms'])\n",
    "\n",
    "\n",
    "\n",
    "\n",
    "\n",
    "X= X.drop([38037, 38038])\n",
    "Xc = Xc.drop([38037, 38038])\n",
    "Xc1 = Xc1.drop([38037, 38038])\n",
    "Y =Y.drop([38037, 38038])\n",
    "\n",
    "X['gde_politics_cvp']=X['gde_politics_cvp'].fillna(0)\n",
    "X['gde_politics_evp']=X['gde_politics_evp'].fillna(0)\n",
    "X['gde_politics_fdp']=X['gde_politics_fdp'].fillna(0)\n",
    "X['gde_politics_sp']=X['gde_politics_sp'].fillna(0)\n",
    "X['gde_politics_svp']=X['gde_politics_svp'].fillna(0)\n",
    "X['gde_politics_bdp']=X['gde_politics_bdp'].fillna(0)\n",
    "X['Renovationyear']=X['Renovationyear'].fillna(0)\n",
    "\n",
    "Xc1['FloorNumber']=Xc1['FloorNumber'].fillna(-1)\n",
    "X['gde_politics_pda']=X['gde_politics_pda'].fillna(0)\n",
    "\n",
    "X['gde_politics_rights'] = X['gde_politics_rights'].fillna(0)\n",
    "#aera = [0 if values == 0 else np.log1p(values) for values in X.AreaProperty]\n",
    "#X['AreaProperty'] = aera\n",
    "# Renovationyear\n",
    "#year = [X.BuiltYear  if values == 0 else values for values in X.Renovationyear]\n",
    "#X['Renovationyear'] = year\n",
    "\n",
    "\n",
    "\n",
    "\n",
    "X['gde_politics_pda'] = np.log1p(X['gde_politics_pda'])\n",
    "\n",
    "X['RiversAndLakesM']=np.log1p(X['RiversAndLakesM'])\n",
    "\n",
    "X['RiversAndLakesL']=np.log1p(X['RiversAndLakesL'])\n",
    "\n",
    "X['WorkplaceDensityL']=np.log1p(X['WorkplaceDensityL'])\n",
    "\n",
    "X['WorkplaceDensityM']=np.log1p(X['WorkplaceDensityM'])\n",
    "\n",
    "X['WorkplaceDensityS']=np.log1p(X['WorkplaceDensityS'])\n",
    "\n",
    "X['TravelTimeMiv']=np.log1p(X['TravelTimeMiv'])\n",
    "\n",
    "X['BuiltYear']=np.log1p(X['BuiltYear'])\n",
    "X['Latitude']=np.log1p(X['Latitude'])\n",
    "\n",
    "#numeric_feats =['gde_workers_sector3','gde_workers_total','gde_private_apartments',\n",
    "#'gde_population','gde_workers_sector2','gde_new_homes_per_1000','RiversAndLakesM','gde_pop_per_km2','gde_politics_bdp',#',\n",
    "#'RiversAndLakesL','WorkplaceDensityL','gde_area_nonproductive_percentage','WorkplaceDensityM',\n",
    "#'WorkplaceDensityS','gde_empty_apartments','gde_workers_sector1','gde_politics_cvp','gde_politics_evp',\n",
    "#'gde_social_help_quota', 'TravelTimeMiv', 'PopulationDensityM','NoisePollutionRoadL',\n",
    "#'gde_foreigners_percentage','gde_politics_svp','gde_area_forest_percentage','gde_average_house_hold',\n",
    " #               'NoisePollutionRoadM','BuiltYear','gde_politics_pda','gde_politics_rights']\n",
    "\n",
    "\n",
    "\n",
    "numeric_feats=['NoisePollutionRoadL',\n",
    "         'NoisePollutionRoadM','PopulationDensityL','PopulationDensityM',\n",
    "        'gde_politics_cvp','gde_politics_evp','gde_politics_sp','gde_politics_fdp',\n",
    "         'gde_politics_svp','gde_area_agriculture_percentage','gde_area_forest_percentage',\n",
    "               'gde_area_nonproductive_percentage',\n",
    "         'gde_area_settlement_percentage','gde_average_house_hold',\n",
    "         'gde_empty_apartments','gde_foreigners_percentage','gde_new_homes_per_1000','gde_pop_per_km2',\n",
    "        'gde_population','gde_private_apartments','gde_social_help_quota','gde_tax','gde_workers_sector1',\n",
    "         'gde_workers_sector2','gde_workers_sector3','gde_workers_total','Longitude',\n",
    "     'AreaProperty','gde_politics_bdp','Renovationyear','gde_politics_rights']\n",
    "\n",
    "print(len(numeric_feats))\n",
    "\n",
    "################################################################\n",
    "#skewed_feats = X[numeric_feats].apply(lambda x: skew(x.dropna())) #compute skewness\n",
    "\n",
    "#skewed_feats = skewed_feats[abs(skewed_feats) > 0.65]\n",
    "\n",
    "#skewed_feats = skewed_feats.index\n",
    "\n",
    "# apply to each of the skewed features\n",
    "\n",
    "  \n",
    "#skew_feats=df[num_feats].skew().sort_values(ascending=False)\n",
    "#skewness=pd.DataFrame({‘Skew’:skew_feats})\n",
    "#skewness=skewness[abs(skewness)>0.75].dropna()\n",
    "#skewed_features=skewness.index\n",
    "################################################################\n",
    "################################################################\n",
    "\n",
    "\n",
    "\n",
    "\n",
    "\n",
    "print(len(numeric_feats))\n",
    "\n",
    "\n",
    "skew_feats=X[numeric_feats].skew().sort_values(ascending=False)\n",
    "skewness=pd.DataFrame({'Skew': skew_feats})\n",
    "skewness=skewness[abs(skewness)>0.65].dropna()\n",
    "skewed_features=skewness.index\n",
    "print(len(skewed_features))\n",
    "print('4',skewed_features)\n",
    "for skewed_feat in skewed_features:\n",
    "    #print(skewed_feat, boxcox_normmax(X[skewed_feat]))\n",
    "   X[skewed_feat],lmbda = boxcox(X[skewed_feat]+1, lmbda=None)\n",
    "   print(skewed_feat, lmbda)\n",
    "\n",
    "\n",
    "    \n",
    "\n",
    "#lmbda =np.random.rand(23)\n",
    "#print(lmbda)\n",
    "\n",
    "#X[skewed_features] = boxcox(X[skewed_features]+1,lmbda)\n",
    "#X[skewed_feats] = boxcox1p(X[skewed_feats], -0.6716917078976924)\n",
    "\n",
    "X= pd.get_dummies(X)\n",
    "\n",
    "#X = X.fillna(X.mean())\n",
    "\n",
    "print(X.columns)\n",
    "\n",
    "\n",
    "len_c= len(Xc.columns)\n",
    "print(len_c)\n",
    "one_hot = pd.get_dummies(Xc.Name)\n",
    "Xc = Xc.drop('Name',axis = 1)\n",
    "Xc = Xc.join(one_hot)\n",
    "#convert GroupNameDe to numerical value\n",
    "len_c= len(Xc.columns)\n",
    "print(len_c)\n",
    "\n",
    "len_c= len(Xc.columns)\n",
    "one_hot = pd.get_dummies(Xc.GroupNameDe)\n",
    "Xc = Xc.drop('GroupNameDe',axis=1)\n",
    "Xc = Xc.join(one_hot)\n",
    "len_c= len(Xc.columns)\n",
    "print(len_c)\n",
    "\n",
    "one_hot = pd.get_dummies(Xc.StateShort)\n",
    "Xc = Xc.drop('StateShort',axis = 1)\n",
    "Xc = Xc.join(one_hot)\n",
    "len_c= len(Xc.columns)\n",
    "\n",
    "print(len_c)\n",
    "Xc = Xc.drop(['ComHistory','Immoclick'],axis=1)\n",
    "print(Xc[Xc.isnull().values==True])\n",
    "\n",
    "print('catogorical', len(Xc.columns))\n",
    "\n",
    "\n",
    "X_new = X.join(Xc)\n",
    "X_new = X_new.join(Xc1)\n",
    "Names = X_new.columns\n",
    "print(X_new[X_new.isnull().values==True])"
   ]
  },
  {
   "cell_type": "markdown",
   "metadata": {},
   "source": [
    "# Linear regression "
   ]
  },
  {
   "cell_type": "code",
   "execution_count": 3,
   "metadata": {},
   "outputs": [
    {
     "name": "stdout",
     "output_type": "stream",
     "text": [
      "(150552, 95)\n",
      "(150552,)\n"
     ]
    },
    {
     "data": {
      "text/plain": [
       "0.7688183240716095"
      ]
     },
     "execution_count": 3,
     "metadata": {},
     "output_type": "execute_result"
    }
   ],
   "source": [
    "from sklearn.linear_model import LinearRegression\n",
    "from sklearn.model_selection import cross_val_score, ShuffleSplit\n",
    "from sklearn.decomposition import PCA \n",
    "\n",
    "x_train,x_test,y_train,y_test = train_test_split(X_new,Y, test_size =0.02,random_state=2)\n",
    "print(x_train.shape)\n",
    "print(y_train.shape)\n",
    "\n",
    "\n",
    "reg = LinearRegression()\n",
    "reg.fit(x_train,y_train)\n",
    "\n",
    "reg.score(x_test,y_test)\n",
    "#0.7620616953606161\n",
    "\n",
    "#0.7614873569497635\n",
    "#0.763136745273263\n",
    "#0.7608189055213967"
   ]
  },
  {
   "cell_type": "markdown",
   "metadata": {},
   "source": [
    "# XGBoost"
   ]
  },
  {
   "cell_type": "code",
   "execution_count": 3,
   "metadata": {},
   "outputs": [
    {
     "name": "stdout",
     "output_type": "stream",
     "text": [
      "0.9005324367994065\n"
     ]
    }
   ],
   "source": [
    "import os\n",
    "os.environ['KMP_DUPLICATE_LIB_OK']='True'\n",
    "import xgboost as xgb\n",
    "from sklearn.metrics import mean_squared_error\n",
    "from sklearn.metrics import r2_score\n",
    "\n",
    "\n",
    "regr= xgb.XGBRegressor(learning_rate=0.003, n_estimators=45000,\n",
    "                             max_depth=15, min_child_weight=1.5,\n",
    "                             subsample=0.6, colsample_bytree=0.4, gamma=0, reg_lambda=0.45,reg_alpha=0.75, n_jobs=-1)\n",
    "\n",
    "regr.fit(x_train,y_train)\n",
    "\n",
    "#print('r^2',r2_score(y_test,y_pred))\n",
    "r2 = regr.score(x_test, y_test)\n",
    "\n",
    "#0.8963993926485596\n",
    "#0.8971271634754513\n",
    "#0.8971492869549468\n",
    "#0.897133508823686\n",
    "#0.8972941345764116\n",
    "print(r2)"
   ]
  },
  {
   "cell_type": "markdown",
   "metadata": {},
   "source": [
    "# Read test.csv and data modification"
   ]
  },
  {
   "cell_type": "code",
   "execution_count": 7,
   "metadata": {},
   "outputs": [
    {
     "name": "stderr",
     "output_type": "stream",
     "text": [
      "/anaconda3/envs/py3/lib/python3.6/site-packages/ipykernel_launcher.py:37: SettingWithCopyWarning: \n",
      "A value is trying to be set on a copy of a slice from a DataFrame.\n",
      "Try using .loc[row_indexer,col_indexer] = value instead\n",
      "\n",
      "See the caveats in the documentation: http://pandas.pydata.org/pandas-docs/stable/indexing.html#indexing-view-versus-copy\n",
      "/anaconda3/envs/py3/lib/python3.6/site-packages/ipykernel_launcher.py:38: SettingWithCopyWarning: \n",
      "A value is trying to be set on a copy of a slice from a DataFrame.\n",
      "Try using .loc[row_indexer,col_indexer] = value instead\n",
      "\n",
      "See the caveats in the documentation: http://pandas.pydata.org/pandas-docs/stable/indexing.html#indexing-view-versus-copy\n",
      "/anaconda3/envs/py3/lib/python3.6/site-packages/ipykernel_launcher.py:39: SettingWithCopyWarning: \n",
      "A value is trying to be set on a copy of a slice from a DataFrame.\n",
      "Try using .loc[row_indexer,col_indexer] = value instead\n",
      "\n",
      "See the caveats in the documentation: http://pandas.pydata.org/pandas-docs/stable/indexing.html#indexing-view-versus-copy\n",
      "/anaconda3/envs/py3/lib/python3.6/site-packages/ipykernel_launcher.py:43: SettingWithCopyWarning: \n",
      "A value is trying to be set on a copy of a slice from a DataFrame.\n",
      "Try using .loc[row_indexer,col_indexer] = value instead\n",
      "\n",
      "See the caveats in the documentation: http://pandas.pydata.org/pandas-docs/stable/indexing.html#indexing-view-versus-copy\n",
      "/anaconda3/envs/py3/lib/python3.6/site-packages/ipykernel_launcher.py:44: SettingWithCopyWarning: \n",
      "A value is trying to be set on a copy of a slice from a DataFrame.\n",
      "Try using .loc[row_indexer,col_indexer] = value instead\n",
      "\n",
      "See the caveats in the documentation: http://pandas.pydata.org/pandas-docs/stable/indexing.html#indexing-view-versus-copy\n",
      "/anaconda3/envs/py3/lib/python3.6/site-packages/ipykernel_launcher.py:45: SettingWithCopyWarning: \n",
      "A value is trying to be set on a copy of a slice from a DataFrame.\n",
      "Try using .loc[row_indexer,col_indexer] = value instead\n",
      "\n",
      "See the caveats in the documentation: http://pandas.pydata.org/pandas-docs/stable/indexing.html#indexing-view-versus-copy\n",
      "/anaconda3/envs/py3/lib/python3.6/site-packages/ipykernel_launcher.py:46: SettingWithCopyWarning: \n",
      "A value is trying to be set on a copy of a slice from a DataFrame.\n",
      "Try using .loc[row_indexer,col_indexer] = value instead\n",
      "\n",
      "See the caveats in the documentation: http://pandas.pydata.org/pandas-docs/stable/indexing.html#indexing-view-versus-copy\n",
      "/anaconda3/envs/py3/lib/python3.6/site-packages/ipykernel_launcher.py:47: SettingWithCopyWarning: \n",
      "A value is trying to be set on a copy of a slice from a DataFrame.\n",
      "Try using .loc[row_indexer,col_indexer] = value instead\n",
      "\n",
      "See the caveats in the documentation: http://pandas.pydata.org/pandas-docs/stable/indexing.html#indexing-view-versus-copy\n",
      "/anaconda3/envs/py3/lib/python3.6/site-packages/ipykernel_launcher.py:48: SettingWithCopyWarning: \n",
      "A value is trying to be set on a copy of a slice from a DataFrame.\n",
      "Try using .loc[row_indexer,col_indexer] = value instead\n",
      "\n",
      "See the caveats in the documentation: http://pandas.pydata.org/pandas-docs/stable/indexing.html#indexing-view-versus-copy\n",
      "/anaconda3/envs/py3/lib/python3.6/site-packages/ipykernel_launcher.py:49: SettingWithCopyWarning: \n",
      "A value is trying to be set on a copy of a slice from a DataFrame.\n",
      "Try using .loc[row_indexer,col_indexer] = value instead\n",
      "\n",
      "See the caveats in the documentation: http://pandas.pydata.org/pandas-docs/stable/indexing.html#indexing-view-versus-copy\n",
      "/anaconda3/envs/py3/lib/python3.6/site-packages/ipykernel_launcher.py:51: SettingWithCopyWarning: \n",
      "A value is trying to be set on a copy of a slice from a DataFrame.\n",
      "Try using .loc[row_indexer,col_indexer] = value instead\n",
      "\n",
      "See the caveats in the documentation: http://pandas.pydata.org/pandas-docs/stable/indexing.html#indexing-view-versus-copy\n",
      "/anaconda3/envs/py3/lib/python3.6/site-packages/ipykernel_launcher.py:52: SettingWithCopyWarning: \n",
      "A value is trying to be set on a copy of a slice from a DataFrame.\n",
      "Try using .loc[row_indexer,col_indexer] = value instead\n",
      "\n",
      "See the caveats in the documentation: http://pandas.pydata.org/pandas-docs/stable/indexing.html#indexing-view-versus-copy\n",
      "/anaconda3/envs/py3/lib/python3.6/site-packages/ipykernel_launcher.py:54: SettingWithCopyWarning: \n",
      "A value is trying to be set on a copy of a slice from a DataFrame.\n",
      "Try using .loc[row_indexer,col_indexer] = value instead\n",
      "\n",
      "See the caveats in the documentation: http://pandas.pydata.org/pandas-docs/stable/indexing.html#indexing-view-versus-copy\n",
      "/anaconda3/envs/py3/lib/python3.6/site-packages/ipykernel_launcher.py:58: SettingWithCopyWarning: \n",
      "A value is trying to be set on a copy of a slice from a DataFrame.\n",
      "Try using .loc[row_indexer,col_indexer] = value instead\n",
      "\n",
      "See the caveats in the documentation: http://pandas.pydata.org/pandas-docs/stable/indexing.html#indexing-view-versus-copy\n",
      "/anaconda3/envs/py3/lib/python3.6/site-packages/ipykernel_launcher.py:60: SettingWithCopyWarning: \n",
      "A value is trying to be set on a copy of a slice from a DataFrame.\n",
      "Try using .loc[row_indexer,col_indexer] = value instead\n",
      "\n",
      "See the caveats in the documentation: http://pandas.pydata.org/pandas-docs/stable/indexing.html#indexing-view-versus-copy\n",
      "/anaconda3/envs/py3/lib/python3.6/site-packages/ipykernel_launcher.py:62: SettingWithCopyWarning: \n",
      "A value is trying to be set on a copy of a slice from a DataFrame.\n",
      "Try using .loc[row_indexer,col_indexer] = value instead\n",
      "\n",
      "See the caveats in the documentation: http://pandas.pydata.org/pandas-docs/stable/indexing.html#indexing-view-versus-copy\n",
      "/anaconda3/envs/py3/lib/python3.6/site-packages/ipykernel_launcher.py:64: SettingWithCopyWarning: \n",
      "A value is trying to be set on a copy of a slice from a DataFrame.\n",
      "Try using .loc[row_indexer,col_indexer] = value instead\n",
      "\n",
      "See the caveats in the documentation: http://pandas.pydata.org/pandas-docs/stable/indexing.html#indexing-view-versus-copy\n",
      "/anaconda3/envs/py3/lib/python3.6/site-packages/ipykernel_launcher.py:66: SettingWithCopyWarning: \n",
      "A value is trying to be set on a copy of a slice from a DataFrame.\n",
      "Try using .loc[row_indexer,col_indexer] = value instead\n",
      "\n",
      "See the caveats in the documentation: http://pandas.pydata.org/pandas-docs/stable/indexing.html#indexing-view-versus-copy\n",
      "/anaconda3/envs/py3/lib/python3.6/site-packages/ipykernel_launcher.py:68: SettingWithCopyWarning: \n",
      "A value is trying to be set on a copy of a slice from a DataFrame.\n",
      "Try using .loc[row_indexer,col_indexer] = value instead\n",
      "\n",
      "See the caveats in the documentation: http://pandas.pydata.org/pandas-docs/stable/indexing.html#indexing-view-versus-copy\n",
      "/anaconda3/envs/py3/lib/python3.6/site-packages/ipykernel_launcher.py:70: SettingWithCopyWarning: \n",
      "A value is trying to be set on a copy of a slice from a DataFrame.\n",
      "Try using .loc[row_indexer,col_indexer] = value instead\n",
      "\n",
      "See the caveats in the documentation: http://pandas.pydata.org/pandas-docs/stable/indexing.html#indexing-view-versus-copy\n",
      "/anaconda3/envs/py3/lib/python3.6/site-packages/ipykernel_launcher.py:72: SettingWithCopyWarning: \n",
      "A value is trying to be set on a copy of a slice from a DataFrame.\n",
      "Try using .loc[row_indexer,col_indexer] = value instead\n",
      "\n",
      "See the caveats in the documentation: http://pandas.pydata.org/pandas-docs/stable/indexing.html#indexing-view-versus-copy\n",
      "/anaconda3/envs/py3/lib/python3.6/site-packages/ipykernel_launcher.py:73: SettingWithCopyWarning: \n",
      "A value is trying to be set on a copy of a slice from a DataFrame.\n",
      "Try using .loc[row_indexer,col_indexer] = value instead\n",
      "\n",
      "See the caveats in the documentation: http://pandas.pydata.org/pandas-docs/stable/indexing.html#indexing-view-versus-copy\n",
      "/anaconda3/envs/py3/lib/python3.6/site-packages/pandas/core/frame.py:3391: SettingWithCopyWarning: \n",
      "A value is trying to be set on a copy of a slice from a DataFrame.\n",
      "Try using .loc[row_indexer,col_indexer] = value instead\n",
      "\n",
      "See the caveats in the documentation: http://pandas.pydata.org/pandas-docs/stable/indexing.html#indexing-view-versus-copy\n",
      "  self[k1] = value[k2]\n"
     ]
    },
    {
     "name": "stdout",
     "output_type": "stream",
     "text": [
      "Index(['AreaLiving', 'Rooms', 'TravelTimeMiv', 'BuiltYear',\n",
      "       'NoisePollutionRoadL', 'NoisePollutionRoadM', 'PopulationDensityL',\n",
      "       'PopulationDensityM', 'RiversAndLakesL', 'RiversAndLakesM',\n",
      "       'WorkplaceDensityL', 'WorkplaceDensityM', 'WorkplaceDensityS',\n",
      "       'gde_politics_cvp', 'gde_politics_evp', 'gde_politics_sp',\n",
      "       'gde_politics_fdp', 'gde_politics_svp',\n",
      "       'gde_area_agriculture_percentage', 'gde_area_forest_percentage',\n",
      "       'gde_area_nonproductive_percentage', 'gde_area_settlement_percentage',\n",
      "       'gde_average_house_hold', 'gde_empty_apartments',\n",
      "       'gde_foreigners_percentage', 'gde_new_homes_per_1000',\n",
      "       'gde_pop_per_km2', 'gde_population', 'gde_private_apartments',\n",
      "       'gde_social_help_quota', 'gde_tax', 'gde_workers_sector1',\n",
      "       'gde_workers_sector2', 'gde_workers_sector3', 'gde_workers_total',\n",
      "       'Latitude', 'Longitude', 'AreaProperty', 'gde_politics_bdp',\n",
      "       'Renovationyear', 'gde_politics_pda', 'gde_politics_rights'],\n",
      "      dtype='object')\n",
      "3\n",
      "11\n",
      "21\n",
      "46\n",
      "Empty DataFrame\n",
      "Columns: [Home.ch, Homegate, ICasa, Immoscout, Immostreet, Immowelt, NabHome, Newhome, Urbanhome, Anderes Haus, Attikawohnung, Doppelhaus, Haus, Loftwohnung, Maisonettewohnung, Mehrfamilienhaus, Reihenhaus, Terassenhaus, Wohnung, Zimmer, AG, AI, AR, BE, BL, BS, FR, GE, GL, GR, JU, LU, NE, NW, OW, SG, SH, SO, SZ, TG, TI, UR, VD, VS, ZG, ZH]\n",
      "Index: []\n",
      "\n",
      "[0 rows x 46 columns]\n",
      "catogorical 46\n",
      "Empty DataFrame\n",
      "Columns: [AreaLiving, Rooms, TravelTimeMiv, BuiltYear, NoisePollutionRoadL, NoisePollutionRoadM, PopulationDensityL, PopulationDensityM, RiversAndLakesL, RiversAndLakesM, WorkplaceDensityL, WorkplaceDensityM, WorkplaceDensityS, gde_politics_cvp, gde_politics_evp, gde_politics_sp, gde_politics_fdp, gde_politics_svp, gde_area_agriculture_percentage, gde_area_forest_percentage, gde_area_nonproductive_percentage, gde_area_settlement_percentage, gde_average_house_hold, gde_empty_apartments, gde_foreigners_percentage, gde_new_homes_per_1000, gde_pop_per_km2, gde_population, gde_private_apartments, gde_social_help_quota, gde_tax, gde_workers_sector1, gde_workers_sector2, gde_workers_sector3, gde_workers_total, Latitude, Longitude, AreaProperty, gde_politics_bdp, Renovationyear, gde_politics_pda, gde_politics_rights, Home.ch, Homegate, ICasa, Immoscout, Immostreet, Immowelt, NabHome, Newhome, Urbanhome, Anderes Haus, Attikawohnung, Doppelhaus, Haus, Loftwohnung, Maisonettewohnung, Mehrfamilienhaus, Reihenhaus, Terassenhaus, Wohnung, Zimmer, AG, AI, AR, BE, BL, BS, FR, GE, GL, GR, JU, LU, NE, NW, OW, SG, SH, SO, SZ, TG, TI, UR, VD, VS, ZG, ZH, SourceId, RealEstateTypeId, HouseObject, Zip, FloorNumber, location_is_complete, location_has_street]\n",
      "Index: []\n",
      "\n",
      "[0 rows x 95 columns]\n"
     ]
    }
   ],
   "source": [
    "#first, import the library from sklearn\n",
    "from sklearn.model_selection import train_test_split\n",
    "import sklearn\n",
    "\n",
    "from sklearn.model_selection import cross_val_score, ShuffleSplit\n",
    "from sklearn.ensemble import RandomForestRegressor\n",
    "import random \n",
    "import pandas as pd\n",
    "import numpy as np\n",
    "from scipy import stats\n",
    "from scipy.special import boxcox1p\n",
    "from scipy.stats import norm, skew  # for some statistics\n",
    "\n",
    "data_test = pd.read_csv(\"/Users/lilian/Desktop/project/project data/test.csv\",encoding = \"ISO-8859-1\")\n",
    "Data = pd.DataFrame(data_test)\n",
    "\n",
    "\n",
    "X =Data[['AreaLiving','Rooms','TravelTimeMiv','BuiltYear','NoisePollutionRoadL',\n",
    "         'NoisePollutionRoadM','PopulationDensityL','PopulationDensityM','RiversAndLakesL',\n",
    "        'RiversAndLakesM','WorkplaceDensityL','WorkplaceDensityM','WorkplaceDensityS',\n",
    "        'gde_politics_cvp','gde_politics_evp','gde_politics_sp','gde_politics_fdp',\n",
    "         'gde_politics_svp','gde_area_agriculture_percentage','gde_area_forest_percentage','gde_area_nonproductive_percentage',\n",
    "         'gde_area_settlement_percentage','gde_average_house_hold',\n",
    "         'gde_empty_apartments','gde_foreigners_percentage','gde_new_homes_per_1000','gde_pop_per_km2',\n",
    "        'gde_population','gde_private_apartments','gde_social_help_quota','gde_tax','gde_workers_sector1',\n",
    "         'gde_workers_sector2','gde_workers_sector3','gde_workers_total','Latitude','Longitude',\n",
    "     'AreaProperty','gde_politics_bdp','Renovationyear','gde_politics_pda','gde_politics_rights']]#,'AreaProperty']]#'Name','GroupNameDe''AreaProperty'\n",
    "#'location_has_street','location_is_complete',\n",
    "\n",
    "Xc = Data[['Name','GroupNameDe','StateShort']]\n",
    "Xc1= Data[['SourceId','RealEstateTypeId','HouseObject','Zip','FloorNumber','location_is_complete',\n",
    "        'location_has_street']]\n",
    "\n",
    "\n",
    "\n",
    "\n",
    "X['AreaProperty']=X['AreaProperty'].fillna(0)\n",
    "X['AreaLiving'] = np.log1p(X['AreaLiving'])\n",
    "X['Rooms'] = np.log1p(X['Rooms'])\n",
    "\n",
    "\n",
    "\n",
    "X['gde_politics_cvp']=X['gde_politics_cvp'].fillna(0)\n",
    "X['gde_politics_evp']=X['gde_politics_evp'].fillna(0)\n",
    "X['gde_politics_fdp']=X['gde_politics_fdp'].fillna(0)\n",
    "X['gde_politics_sp']=X['gde_politics_sp'].fillna(0)\n",
    "X['gde_politics_svp']=X['gde_politics_svp'].fillna(0)\n",
    "X['gde_politics_bdp']=X['gde_politics_bdp'].fillna(0)\n",
    "X['Renovationyear']=X['Renovationyear'].fillna(0)\n",
    "\n",
    "Xc1['FloorNumber']=Xc1['FloorNumber'].fillna(-1)\n",
    "X['gde_politics_pda']=X['gde_politics_pda'].fillna(0)\n",
    "\n",
    "X['gde_politics_rights'] = X['gde_politics_rights'].fillna(0)\n",
    "\n",
    "\n",
    "\n",
    "X['gde_politics_pda'] = np.log1p(X['gde_politics_pda'])\n",
    "\n",
    "X['RiversAndLakesM']=np.log1p(X['RiversAndLakesM'])\n",
    "\n",
    "X['RiversAndLakesL']=np.log1p(X['RiversAndLakesL'])\n",
    "\n",
    "X['WorkplaceDensityL']=np.log1p(X['WorkplaceDensityL'])\n",
    "\n",
    "X['WorkplaceDensityM']=np.log1p(X['WorkplaceDensityM'])\n",
    "\n",
    "X['WorkplaceDensityS']=np.log1p(X['WorkplaceDensityS'])\n",
    "\n",
    "X['TravelTimeMiv']=np.log1p(X['TravelTimeMiv'])\n",
    "\n",
    "X['BuiltYear']=np.log1p(X['BuiltYear'])\n",
    "X['Latitude']=np.log1p(X['Latitude'])\n",
    "\n",
    "\n",
    "\n",
    "\n",
    "skewed_features = ['gde_workers_sector3', 'gde_workers_total', 'gde_private_apartments', \n",
    "                   'gde_population', 'gde_workers_sector2', 'gde_new_homes_per_1000',\n",
    "                   'gde_pop_per_km2','gde_politics_bdp', 'gde_politics_rights', \n",
    "                   'gde_area_nonproductive_percentage', 'AreaProperty', 'Renovationyear',\n",
    "                    'gde_empty_apartments', 'gde_workers_sector1', 'gde_politics_cvp',\n",
    "                    'gde_social_help_quota', 'gde_politics_evp', 'gde_area_settlement_percentage',\n",
    "                   'PopulationDensityL', 'gde_politics_fdp']\n",
    "\n",
    "\n",
    "\n",
    "\n",
    "lmbda = [-0.08382454260094371,-0.09740144518208556, -0.1293538929676799,\n",
    "         -0.12028214696417053, 0.039575378017147896, 0.031292103343882514,\n",
    "         0.12587091075756304, -0.03925150682182432, -0.6716917078976924,\n",
    "         -0.4721885024919391, -0.1715919651049174, -1.319448970769253,\n",
    "         -0.38724099772177667, 0.26137401025331924, 0.12847128768573315,\n",
    "         0.010573623942134229, -0.05538259516219001,0.22010256794925992,\n",
    "         -2.865476097051609, 0.6732043187675799]\n",
    "\n",
    "\n",
    "\n",
    "X[skewed_features]= boxcox1p(X[skewed_features], lmbda)\n",
    " \n",
    "\n",
    "    \n",
    "\n",
    "#lmbda =np.random.rand(23)\n",
    "#print(lmbda)\n",
    "\n",
    "#X[skewed_features] = boxcox(X[skewed_features]+1,lmbda)\n",
    "#X[skewed_feats] = boxcox1p(X[skewed_feats], -0.6716917078976924)\n",
    "\n",
    "X= pd.get_dummies(X)\n",
    "\n",
    "#X = X.fillna(X.mean())\n",
    "\n",
    "print(X.columns)\n",
    "\n",
    "len_c= len(Xc.columns)\n",
    "print(len_c)\n",
    "one_hot = pd.get_dummies(Xc.Name)\n",
    "Xc = Xc.drop('Name',axis = 1)\n",
    "Xc = Xc.join(one_hot)\n",
    "#convert GroupNameDe to numerical value\n",
    "len_c= len(Xc.columns)\n",
    "print(len_c)\n",
    "\n",
    "len_c= len(Xc.columns)\n",
    "one_hot = pd.get_dummies(Xc.GroupNameDe)\n",
    "Xc = Xc.drop('GroupNameDe',axis=1)\n",
    "Xc = Xc.join(one_hot)\n",
    "len_c= len(Xc.columns)\n",
    "print(len_c)\n",
    "\n",
    "one_hot = pd.get_dummies(Xc.StateShort)\n",
    "Xc = Xc.drop('StateShort',axis = 1)\n",
    "Xc = Xc.join(one_hot)\n",
    "len_c= len(Xc.columns)\n",
    "\n",
    "print(len_c)\n",
    "\n",
    "print(Xc[Xc.isnull().values==True])\n",
    "\n",
    "print('catogorical', len(Xc.columns))\n",
    "\n",
    "\n",
    "X_new = X.join(Xc)\n",
    "X_new = X_new.join(Xc1)\n",
    "Names = X_new.columns\n",
    "print(X_new[X_new.isnull().values==True])"
   ]
  },
  {
   "cell_type": "markdown",
   "metadata": {},
   "source": [
    "# Results for submission"
   ]
  },
  {
   "cell_type": "code",
   "execution_count": 6,
   "metadata": {},
   "outputs": [
    {
     "name": "stdout",
     "output_type": "stream",
     "text": [
      "(30074,)\n",
      "(30074,)\n"
     ]
    }
   ],
   "source": [
    "ID = Data[['Id']]\n",
    "Y_pred =regr.predict(X_new)\n",
    "Y_pred= np.exp(Y_pred)-1\n",
    "ID_array =np.array(ID.values).reshape(len(Y_pred),)\n",
    "print(ID_array.shape)\n",
    "print(Y_pred.shape)\n",
    "df = pd.DataFrame({\"ID\":ID_array, \"Predicted\": Y_pred})\n",
    "export_csv = df.to_csv ('sub_new.csv')"
   ]
  },
  {
   "cell_type": "markdown",
   "metadata": {},
   "source": [
    "# Gradient Boosting"
   ]
  },
  {
   "cell_type": "code",
   "execution_count": 4,
   "metadata": {},
   "outputs": [
    {
     "data": {
      "text/plain": [
       "0.8978158523450207"
      ]
     },
     "execution_count": 4,
     "metadata": {},
     "output_type": "execute_result"
    }
   ],
   "source": [
    "from sklearn import ensemble\n",
    "y_train =np.array(y_train).reshape(len(y_train),)\n",
    "y_test=np.array(y_test).reshape(len(y_test),)\n",
    "#clf = ensemble.GradientBoostingRegressor(n_estimators = 4000, max_depth=12, min_samples_split =2, learning_rate=0.01, loss='ls')\n",
    "clf = ensemble.GradientBoostingRegressor(n_estimators = 3500, max_depth=12, min_samples_split =2, learning_rate=0.03, loss='ls')\n",
    "#clf = ensemble.GradientBoostingRegressor(n_estimators = 777, max_depth=5, min_samples_split =2, learning_rate=0.06, loss='ls')\n",
    "clf.fit(x_train,y_train)\n",
    "clf.score(x_test,y_test)"
   ]
  },
  {
   "cell_type": "markdown",
   "metadata": {},
   "source": [
    "# Results for submission"
   ]
  },
  {
   "cell_type": "code",
   "execution_count": 8,
   "metadata": {},
   "outputs": [
    {
     "name": "stdout",
     "output_type": "stream",
     "text": [
      "(30074,)\n",
      "(30074,)\n"
     ]
    }
   ],
   "source": [
    "ID = Data[['Id']]\n",
    "Y_pred =clf.predict(X_new)\n",
    "Y_pred= np.exp(Y_pred)-1\n",
    "ID_array =np.array(ID.values).reshape(len(Y_pred),)\n",
    "print(ID_array.shape)\n",
    "print(Y_pred.shape)\n",
    "df = pd.DataFrame({\"ID\":ID_array, \"Predicted\": Y_pred})\n",
    "export_csv = df.to_csv ('sub_new_g0004.csv')"
   ]
  },
  {
   "cell_type": "markdown",
   "metadata": {},
   "source": [
    "# GridsearchCV"
   ]
  },
  {
   "cell_type": "code",
   "execution_count": null,
   "metadata": {},
   "outputs": [],
   "source": [
    "cv_params = {'n_estimators': np.linspace(4000, 1000, 10, dtype=int)}\n",
    "regress_model = ensemble.GradientBoostingRegressor(**other_params) \n",
    "print('1')\n",
    "gs = GridSearchCV(regress_model, cv_params, verbose=2, refit=True, cv=3 )\n",
    "gs.fit(x_test,y_test)\n",
    "print(\"The best parameter：:\", gs.best_params_)\n",
    "evalute_result = gs.cv_results_\n",
    "print(evalute_result)"
   ]
  },
  {
   "cell_type": "code",
   "execution_count": 60,
   "metadata": {},
   "outputs": [
    {
     "name": "stdout",
     "output_type": "stream",
     "text": [
      "1\n",
      "Fitting 3 folds for each of 3 candidates, totalling 9 fits\n",
      "[CV] n_estimators=45000 ..............................................\n",
      "[CV] ............................. n_estimators=45000, total=2032.1min\n"
     ]
    },
    {
     "name": "stderr",
     "output_type": "stream",
     "text": [
      "[Parallel(n_jobs=1)]: Done   1 out of   1 | elapsed: 2287.2min remaining:    0.0s\n"
     ]
    },
    {
     "name": "stdout",
     "output_type": "stream",
     "text": [
      "[CV] n_estimators=45000 ..............................................\n",
      "[CV] ............................. n_estimators=45000, total=1375.3min\n",
      "[CV] n_estimators=45000 ..............................................\n",
      "[CV] .............................. n_estimators=45000, total=658.5min\n",
      "[CV] n_estimators=50000 ..............................................\n",
      "[CV] .............................. n_estimators=50000, total=678.6min\n",
      "[CV] n_estimators=50000 ..............................................\n",
      "[CV] .............................. n_estimators=50000, total=702.5min\n",
      "[CV] n_estimators=50000 ..............................................\n",
      "[CV] ............................. n_estimators=50000, total=1278.1min\n",
      "[CV] n_estimators=55000 ..............................................\n",
      "[CV] .............................. n_estimators=55000, total=735.5min\n",
      "[CV] n_estimators=55000 ..............................................\n",
      "[CV] .............................. n_estimators=55000, total=772.7min\n",
      "[CV] n_estimators=55000 ..............................................\n",
      "[CV] .............................. n_estimators=55000, total=746.6min\n"
     ]
    },
    {
     "name": "stderr",
     "output_type": "stream",
     "text": [
      "[Parallel(n_jobs=1)]: Done   9 out of   9 | elapsed: 9836.7min finished\n"
     ]
    },
    {
     "name": "stdout",
     "output_type": "stream",
     "text": [
      "The best parameter：: {'n_estimators': 45000}\n",
      "{'split0_test_score': array([0.77640522, 0.77618474, 0.77601438]), 'split1_test_score': array([0.87203351, 0.87186233, 0.87170714]), 'split2_test_score': array([0.87979318, 0.87963779, 0.87951007]), 'mean_test_score': array([0.84274354, 0.84256119, 0.8424101 ]), 'std_test_score': array([0.04701558, 0.04704291, 0.04705726]), 'rank_test_score': array([1, 2, 3], dtype=int32), 'split0_train_score': array([0.99335862, 0.99372215, 0.99402764]), 'split1_train_score': array([0.99429333, 0.9946151 , 0.99488658]), 'split2_train_score': array([0.99389651, 0.99424755, 0.9945394 ]), 'mean_train_score': array([0.99384949, 0.99419493, 0.99448454]), 'std_train_score': array([0.00038304, 0.00036644, 0.0003528 ]), 'mean_fit_time': array([78840.19697499, 50947.7875131 , 42677.88991642]), 'std_fit_time': array([33081.56879224, 16626.4761021 ,   943.48005931]), 'mean_score_time': array([2476.24075206, 2235.45148555, 2416.95226773]), 'std_score_time': array([683.49815833,   7.07581426,  31.46042152]), 'param_n_estimators': masked_array(data=[45000, 50000, 55000],\n",
      "             mask=[False, False, False],\n",
      "       fill_value='?',\n",
      "            dtype=object), 'params': ({'n_estimators': 45000}, {'n_estimators': 50000}, {'n_estimators': 55000})}\n"
     ]
    }
   ],
   "source": [
    "from sklearn.model_selection import KFold, cross_val_score#Perforing grid search\n",
    "from sklearn.model_selection import GridSearchCV\n",
    "from sklearn import metrics\n",
    "other_params = {'learning_rate':0.005,'n_estimators':50000,\n",
    "                'max_depth':15,'min_child_weight':1.5,'subsample':0.6,\n",
    "                'colsample_bytree':0.4, 'gamma':0, 'reg_lambda':0.45,'reg_alpha':0.75}\n",
    "cv_params = {'n_estimators': np.linspace(45000,55000, 3, dtype=int)}\n",
    "regress_model = xgb.XGBRegressor(**other_params) \n",
    "print('1')\n",
    "gs = GridSearchCV(regress_model, cv_params, verbose=2, refit=True, cv=3 )\n",
    "gs.fit(X_new,Y)\n",
    "print(\"The best parameter：:\", gs.best_params_)\n",
    "evalute_result = gs.cv_results_\n",
    "print(evalute_result)"
   ]
  },
  {
   "cell_type": "code",
   "execution_count": 3,
   "metadata": {},
   "outputs": [
    {
     "name": "stdout",
     "output_type": "stream",
     "text": [
      "1\n",
      "Fitting 3 folds for each of 3 candidates, totalling 9 fits\n",
      "[CV] max_depth=13 ....................................................\n",
      "[CV] ................................... max_depth=13, total=1357.3min\n"
     ]
    },
    {
     "name": "stderr",
     "output_type": "stream",
     "text": [
      "[Parallel(n_jobs=1)]: Done   1 out of   1 | elapsed: 1421.6min remaining:    0.0s\n"
     ]
    },
    {
     "name": "stdout",
     "output_type": "stream",
     "text": [
      "[CV] max_depth=13 ....................................................\n",
      "[CV] .................................... max_depth=13, total=605.3min\n",
      "[CV] max_depth=13 ....................................................\n",
      "[CV] .................................... max_depth=13, total=709.4min\n",
      "[CV] max_depth=15 ....................................................\n",
      "[CV] .................................... max_depth=15, total=977.3min\n",
      "[CV] max_depth=15 ....................................................\n",
      "[CV] ................................... max_depth=15, total=1667.8min\n",
      "[CV] max_depth=15 ....................................................\n",
      "[CV] ................................... max_depth=15, total=1041.9min\n",
      "[CV] max_depth=17 ....................................................\n",
      "[CV] .................................... max_depth=17, total=685.5min\n",
      "[CV] max_depth=17 ....................................................\n",
      "[CV] .................................... max_depth=17, total=682.3min\n",
      "[CV] max_depth=17 ....................................................\n",
      "[CV] .................................... max_depth=17, total=913.6min\n"
     ]
    },
    {
     "name": "stderr",
     "output_type": "stream",
     "text": [
      "[Parallel(n_jobs=1)]: Done   9 out of   9 | elapsed: 9310.0min finished\n"
     ]
    },
    {
     "name": "stdout",
     "output_type": "stream",
     "text": [
      "The best parameter：: {'max_depth': 13}\n",
      "{'split0_test_score': array([0.7766318 , 0.77640522, 0.776288  ]), 'split1_test_score': array([0.87215797, 0.87203351, 0.87197116]), 'split2_test_score': array([0.88001607, 0.87979318, 0.87975392]), 'mean_test_score': array([0.84293485, 0.84274354, 0.8426706 ]), 'std_test_score': array([0.04699342, 0.04701558, 0.04704745]), 'rank_test_score': array([1, 2, 3], dtype=int32), 'split0_train_score': array([0.99250923, 0.99335862, 0.99372578]), 'split1_train_score': array([0.9935646 , 0.99429333, 0.99460303]), 'split2_train_score': array([0.99310908, 0.99389651, 0.9942349 ]), 'mean_train_score': array([0.99306097, 0.99384949, 0.9941879 ]), 'std_train_score': array([0.00043219, 0.00038304, 0.00035967]), 'mean_fit_time': array([51437.78931173, 71738.66486971, 43647.76508602]), 'std_fit_time': array([19992.36790831, 18624.83132023,  6497.58161476]), 'mean_score_time': array([2000.91152708, 2002.37196255, 1981.65922602]), 'std_score_time': array([104.14759902,  65.53929546,  12.29250677]), 'param_max_depth': masked_array(data=[13, 15, 17],\n",
      "             mask=[False, False, False],\n",
      "       fill_value='?',\n",
      "            dtype=object), 'params': ({'max_depth': 13}, {'max_depth': 15}, {'max_depth': 17})}\n"
     ]
    }
   ],
   "source": [
    "from sklearn.model_selection import KFold, cross_val_score#Perforing grid search\n",
    "from sklearn.model_selection import GridSearchCV\n",
    "from sklearn import metrics\n",
    "\n",
    "import xgboost as xgb\n",
    "from sklearn.metrics import mean_squared_error\n",
    "from sklearn.metrics import r2_score\n",
    "other_params = {'learning_rate':0.005,'n_estimators':45000,\n",
    "                'max_depth':15,'min_child_weight':1.5,'subsample':0.6,\n",
    "                'colsample_bytree':0.4, 'gamma':0, 'reg_lambda':0.45,'reg_alpha':0.75}\n",
    "cv_params = {'max_depth': np.linspace(13,17, 3, dtype=int)}\n",
    "regress_model = xgb.XGBRegressor(**other_params) \n",
    "print('1')\n",
    "gs = GridSearchCV(regress_model, cv_params, verbose=2, refit=True, cv=3 )\n",
    "gs.fit(X_new,Y)\n",
    "print(\"The best parameter：:\", gs.best_params_)\n",
    "evalute_result = gs.cv_results_\n",
    "print(evalute_result)"
   ]
  },
  {
   "cell_type": "code",
   "execution_count": 5,
   "metadata": {},
   "outputs": [
    {
     "name": "stdout",
     "output_type": "stream",
     "text": [
      "1\n",
      "Fitting 3 folds for each of 3 candidates, totalling 9 fits\n",
      "[CV] learning_rate=0.003 .............................................\n",
      "[CV] ............................. learning_rate=0.003, total=805.3min\n"
     ]
    },
    {
     "name": "stderr",
     "output_type": "stream",
     "text": [
      "[Parallel(n_jobs=1)]: Done   1 out of   1 | elapsed: 875.9min remaining:    0.0s\n"
     ]
    },
    {
     "name": "stdout",
     "output_type": "stream",
     "text": [
      "[CV] learning_rate=0.003 .............................................\n",
      "[CV] ............................. learning_rate=0.003, total=572.1min\n",
      "[CV] learning_rate=0.003 .............................................\n",
      "[CV] ............................. learning_rate=0.003, total=832.1min\n",
      "[CV] learning_rate=0.005 .............................................\n",
      "[CV] ............................. learning_rate=0.005, total=558.0min\n",
      "[CV] learning_rate=0.005 .............................................\n",
      "[CV] ............................. learning_rate=0.005, total=637.3min\n",
      "[CV] learning_rate=0.005 .............................................\n",
      "[CV] ............................. learning_rate=0.005, total=633.8min\n",
      "[CV] learning_rate=0.007 .............................................\n",
      "[CV] ............................. learning_rate=0.007, total=637.1min\n",
      "[CV] learning_rate=0.007 .............................................\n",
      "[CV] ............................. learning_rate=0.007, total=587.3min\n",
      "[CV] learning_rate=0.007 .............................................\n",
      "[CV] ............................. learning_rate=0.007, total=549.0min\n"
     ]
    },
    {
     "name": "stderr",
     "output_type": "stream",
     "text": [
      "[Parallel(n_jobs=1)]: Done   9 out of   9 | elapsed: 6689.3min finished\n"
     ]
    },
    {
     "name": "stdout",
     "output_type": "stream",
     "text": [
      "The best parameter：: {'learning_rate': 0.003}\n",
      "{'split0_test_score': array([0.77868718, 0.7766318 , 0.77488564]), 'split1_test_score': array([0.87328502, 0.87215797, 0.87136662]), 'split2_test_score': array([0.88116848, 0.88001607, 0.87918202]), 'mean_test_score': array([0.8443798 , 0.84293485, 0.84181099]), 'std_test_score': array([0.04656351, 0.04699342, 0.04743127]), 'rank_test_score': array([1, 2, 3], dtype=int32), 'split0_train_score': array([0.98973407, 0.99250923, 0.99382723]), 'split1_train_score': array([0.99092998, 0.9935646 , 0.99475833]), 'split2_train_score': array([0.99028031, 0.99310908, 0.99438872]), 'mean_train_score': array([0.99031479, 0.99306097, 0.99432476]), 'std_train_score': array([0.00048884, 0.00043219, 0.0003828 ]), 'mean_fit_time': array([42095.40338127, 34567.29115971, 33550.28369864]), 'std_fit_time': array([6993.8155647 , 2164.68207532, 2142.61419281]), 'mean_score_time': array([2093.60153969, 2015.20269569, 1917.52185011]), 'std_score_time': array([ 21.97813879, 129.98870609,  23.41497961]), 'param_learning_rate': masked_array(data=[0.003, 0.005, 0.007],\n",
      "             mask=[False, False, False],\n",
      "       fill_value='?',\n",
      "            dtype=object), 'params': ({'learning_rate': 0.003}, {'learning_rate': 0.005}, {'learning_rate': 0.007})}\n"
     ]
    }
   ],
   "source": [
    "from sklearn.model_selection import KFold, cross_val_score#Perforing grid search\n",
    "from sklearn.model_selection import GridSearchCV\n",
    "from sklearn import metrics\n",
    "other_params = {'learning_rate':0.005,'n_estimators':45000,\n",
    "                'max_depth':13,'min_child_weight':1.5,'subsample':0.6,\n",
    "                'colsample_bytree':0.4, 'gamma':0, 'reg_lambda':0.45,'reg_alpha':0.75}\n",
    "cv_params = {'learning_rate': np.linspace(0.003,0.007,3)}\n",
    "regress_model = xgb.XGBRegressor(**other_params) \n",
    "print('1')\n",
    "gs = GridSearchCV(regress_model, cv_params, verbose=2, refit=True, cv=3 )\n",
    "gs.fit(X_new,Y)\n",
    "print(\"The best parameter：:\", gs.best_params_)\n",
    "evalute_result = gs.cv_results_\n",
    "print(evalute_result)"
   ]
  },
  {
   "cell_type": "code",
   "execution_count": 6,
   "metadata": {},
   "outputs": [
    {
     "name": "stderr",
     "output_type": "stream",
     "text": [
      "No handles with labels found to put in legend.\n"
     ]
    },
    {
     "data": {
      "image/png": "[encoded data removed]",
      "text/plain": [
       "<Figure size 432x288 with 3 Axes>"
      ]
     },
     "metadata": {
      "needs_background": "light"
     },
     "output_type": "display_data"
    }
   ],
   "source": [
    "### import numpy as np\n",
    "import matplotlib.pyplot as plt\n",
    "x = [45000,50000,55000]\n",
    "y = [0.87979318, 0.87963779, 0.87951007]\n",
    "x1 = [13,14,15]\n",
    "y1 = [0.88001607, 0.87979318, 0.87975392]\n",
    "x2 = [0.003,0.005,0.007]\n",
    "y2=[0.88116848, 0.88001607, 0.87918202]\n",
    "\n",
    "fig = plt.figure()\n",
    "\n",
    "ax1= fig.add_subplot(111)\n",
    "ax1.legend(loc='upper left')\n",
    "ax1.set_xlabel(r\"n_$estimators$\")\n",
    "ax1.set_ylabel(r\"R$^2$ Score\")\n",
    "ax1.set_title(r\"Grid Search for hyperparameters\")\n",
    "ax1.plot(x,y,label=r\"n_$estimators$\")\n",
    "plt.xticks([45000,50000,55000])\n",
    "plt.legend(loc='upper right')\n",
    "\n",
    "\n",
    "ax2 = ax1.twiny()\n",
    "newlabel=[13,14,15]\n",
    "newpos = [45000,50000,55000]\n",
    "ax2.set_xticks(newpos)\n",
    "ax2.set_xticklabels(newlabel)\n",
    "ax2.xaxis.set_ticks_position('bottom') # set the position of the second x-axis to bottom\n",
    "ax2.xaxis.set_label_position('bottom') # set the position of the second x-axis to bottom\n",
    "ax2.spines['bottom'].set_position(('outward', 36))\n",
    "ax2.set_xlabel('max_depth')\n",
    "ax2.set_xlim(ax1.get_xlim())\n",
    "#(x,y, label=r\"$L_{\\rm MAPE}$\")\n",
    "\n",
    "\n",
    "ax1.plot(x,y1,label=r\"max_depth\")\n",
    "ax1.plot(x,y2,label=r\"Learning_rate\")\n",
    "ax3 = ax1.twiny()\n",
    "\n",
    "#new_tick_locations = np.array([13,14,15])\n",
    "newlabel= [0.003,0.005,0.007]\n",
    "\n",
    "newpos = [45000,50000,55000]\n",
    "ax3.set_xticks(newpos)\n",
    "ax3.set_xticklabels(newlabel)\n",
    "ax3.xaxis.set_ticks_position('bottom') # set the position of the second x-axis to bottom\n",
    "ax3.xaxis.set_label_position('bottom') # set the position of the second x-axis to bottom\n",
    "ax3.spines['bottom'].set_position(('outward', 72))\n",
    "ax3.set_xlabel('Learning rate')\n",
    "ax3.set_xlim(ax1.get_xlim())\n",
    "\n",
    "ax1.legend(loc='upper right')\n",
    "plt.savefig(r\"hy.png\")\n",
    "\n",
    "\n",
    "plt.show()"
   ]
  },
  {
   "cell_type": "markdown",
   "metadata": {},
   "source": [
    "# Combine Forecasting"
   ]
  },
  {
   "cell_type": "code",
   "execution_count": 9,
   "metadata": {},
   "outputs": [
    {
     "name": "stdout",
     "output_type": "stream",
     "text": [
      "(30074, 1)\n",
      "(30074, 1)\n",
      "(30074,)\n"
     ]
    }
   ],
   "source": [
    "\n",
    "data = pd.read_csv(\"/Users/lilian/Desktop/project/sample_submission 106.csv\",encoding = \"ISO-8859-1\")\n",
    "Data1 = pd.DataFrame(data)\n",
    "data = pd.read_csv(\"/Users/lilian/Desktop/project/sample_submission 101.csv\",encoding = \"ISO-8859-1\")\n",
    "Data2 = pd.DataFrame(data)\n",
    "Y_pred1= Data1[['Predicted']]\n",
    "Y_pred2= Data2[['Predicted']]\n",
    "print(Y_pred1.shape)\n",
    "print(Y_pred2.shape)\n",
    "#Y_pred = 0.48*Y_pred1+0.52*Y_pred2\n",
    "Y_pred = 0.60*Y_pred1+0.40*Y_pred2\n",
    "\n",
    "#0.40,0.60 12.87387\n",
    "#0.35,0.65 12.87851\n",
    "Y_pred = np.array(Y_pred.values).reshape(len(Y_pred),)\n",
    "print(Y_pred.shape)\n",
    "df = pd.DataFrame({\"Predicted\": Y_pred})\n",
    "export_csv = df.to_csv ('sub_iuu.csv')"
   ]
  },
  {
   "cell_type": "code",
   "execution_count": 4,
   "metadata": {},
   "outputs": [
    {
     "data": {
      "image/png": "[encoded data removed]",
      "text/plain": [
       "<Figure size 432x288 with 2 Axes>"
      ]
     },
     "metadata": {
      "needs_background": "light"
     },
     "output_type": "display_data"
    },
    {
     "data": {
      "text/plain": [
       "<Figure size 432x288 with 0 Axes>"
      ]
     },
     "metadata": {},
     "output_type": "display_data"
    }
   ],
   "source": [
    "import numpy as np\n",
    "import matplotlib.pyplot as plt\n",
    "#x = [0, 0.3, 0.4, 0.45, 0.47, 0.5, 0.6, 0.7, 1]\n",
    "#y=  [13.38143, 13.12035, 13.10305, 13.0053,13.10069,  13.10220,13.11951, 13.15695, 13.28248]\n",
    "x = [0,0.4,0.45,0.50,0.60,1]\n",
    "y= [13.03027,12.85489,12.85213, 12.85361, 12.86963, 13.10687 ]\n",
    "y1 = [13.04827, 12.86522, 12.86374, 12.86658, 12.88442, 13.12205]\n",
    "\n",
    "\n",
    "fig = plt.figure()\n",
    "\n",
    "ax1= fig.add_subplot(111)\n",
    "ax1.set_title(r\"$L_{\\rm MAPE}$\")\n",
    "ax2 = ax1.twiny()\n",
    "ax1.plot(x,y, label=r\"Private Score\")\n",
    "#(x,y, label=r\"$L_{\\rm MAPE}$\")\n",
    "\n",
    "ax1.plot(x,y1,label=r\"Public Score\")\n",
    "ax1.axvline(x=0.45,color='red')\n",
    "ax1.legend(loc='upper left')\n",
    "ax1.set_xlabel(r\"coefficient $a_1$\")\n",
    "\n",
    "new_tick_locations = np.array([0, 0.2, 0.4,  0.6, 0.8, 1])\n",
    "\n",
    "def tick_function(x):\n",
    "    V = 1-x \n",
    "    return [\"%.1f\" %z for z in V]\n",
    "\n",
    "ax2.set_xlim(ax1.get_xlim())\n",
    "ax2.set_xticks(new_tick_locations)\n",
    "ax2.set_xticklabels(tick_function(new_tick_locations))\n",
    "ax2.set_xlabel(r\"coefficient $a_2$\")\n",
    "plt.show()\n",
    "plt.savefig(r\"cofficient.png\")\n",
    "\n",
    "\n"
   ]
  }
 ],
 "metadata": {
  "kernelspec": {
   "display_name": "Python 3",
   "language": "python",
   "name": "python3"
  },
  "language_info": {
   "codemirror_mode": {
    "name": "ipython",
    "version": 3
   },
   "file_extension": ".py",
   "mimetype": "text/x-python",
   "name": "python",
   "nbconvert_exporter": "python",
   "pygments_lexer": "ipython3",
   "version": "3.6.8"
  }
 },
 "nbformat": 4,
 "nbformat_minor": 2
}
